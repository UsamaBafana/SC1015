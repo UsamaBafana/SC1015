{
 "cells": [
  {
   "cell_type": "markdown",
   "id": "fa9022ff",
   "metadata": {},
   "source": [
    "#### **Problem Formulation**\n",
    "\n",
    "Our Dataset: (https://www.kaggle.com/datasets/ronaldonyango/global-suicide-rates-1990-to-2022) \n",
    "\n",
    "##### Our Question: What `socioeconomic factors` might be behind the suicide rates in the world ?"
   ]
  },
  {
   "cell_type": "code",
   "execution_count": null,
   "id": "ebe6c4e6",
   "metadata": {},
   "outputs": [],
   "source": []
  },
  {
   "cell_type": "markdown",
   "id": "210b7dc4",
   "metadata": {},
   "source": [
    "#### Import Important Libraries\n"
   ]
  },
  {
   "cell_type": "code",
   "execution_count": 2,
   "id": "3f6dc763",
   "metadata": {},
   "outputs": [],
   "source": [
    "import numpy as np\n",
    "import math\n",
    "import matplotlib.gridspec as gridspec\n",
    "import pandas as pd\n",
    "import seaborn as sb\n",
    "import matplotlib.pyplot as plt # we only need pyplot\n",
    "from sklearn.linear_model import LinearRegression\n",
    "sb.set() # set the default Seaborn style for graphics\n",
    "import plotly.express as px"
   ]
  },
  {
   "cell_type": "code",
   "execution_count": 3,
   "id": "28ffa784",
   "metadata": {},
   "outputs": [
    {
     "data": {
      "text/html": [
       "<div>\n",
       "<style scoped>\n",
       "    .dataframe tbody tr th:only-of-type {\n",
       "        vertical-align: middle;\n",
       "    }\n",
       "\n",
       "    .dataframe tbody tr th {\n",
       "        vertical-align: top;\n",
       "    }\n",
       "\n",
       "    .dataframe thead th {\n",
       "        text-align: right;\n",
       "    }\n",
       "</style>\n",
       "<table border=\"1\" class=\"dataframe\">\n",
       "  <thead>\n",
       "    <tr style=\"text-align: right;\">\n",
       "      <th></th>\n",
       "      <th>RegionCode</th>\n",
       "      <th>RegionName</th>\n",
       "      <th>CountryCode</th>\n",
       "      <th>CountryName</th>\n",
       "      <th>Year</th>\n",
       "      <th>Sex</th>\n",
       "      <th>SuicideCount</th>\n",
       "      <th>CauseSpecificDeathPercentage</th>\n",
       "      <th>StdDeathRate</th>\n",
       "      <th>DeathRatePer100K</th>\n",
       "      <th>Population</th>\n",
       "      <th>GDP</th>\n",
       "      <th>GDPPerCapita</th>\n",
       "      <th>GNI</th>\n",
       "      <th>GNIPerCapita</th>\n",
       "      <th>InflationRate</th>\n",
       "      <th>EmploymentPopulationRatio</th>\n",
       "    </tr>\n",
       "  </thead>\n",
       "  <tbody>\n",
       "    <tr>\n",
       "      <th>0</th>\n",
       "      <td>EU</td>\n",
       "      <td>Europe</td>\n",
       "      <td>ALB</td>\n",
       "      <td>Albania</td>\n",
       "      <td>1992</td>\n",
       "      <td>Male</td>\n",
       "      <td>33</td>\n",
       "      <td>0.331959</td>\n",
       "      <td>2.335802</td>\n",
       "      <td>2.076386</td>\n",
       "      <td>3247039.0</td>\n",
       "      <td>6.521750e+08</td>\n",
       "      <td>200.852220</td>\n",
       "      <td>9.061842e+08</td>\n",
       "      <td>1740.0</td>\n",
       "      <td>226.005421</td>\n",
       "      <td>45.315</td>\n",
       "    </tr>\n",
       "    <tr>\n",
       "      <th>1</th>\n",
       "      <td>EU</td>\n",
       "      <td>Europe</td>\n",
       "      <td>ALB</td>\n",
       "      <td>Albania</td>\n",
       "      <td>1992</td>\n",
       "      <td>Female</td>\n",
       "      <td>14</td>\n",
       "      <td>0.191860</td>\n",
       "      <td>0.866420</td>\n",
       "      <td>0.874563</td>\n",
       "      <td>3247039.0</td>\n",
       "      <td>6.521750e+08</td>\n",
       "      <td>200.852220</td>\n",
       "      <td>9.061842e+08</td>\n",
       "      <td>1740.0</td>\n",
       "      <td>226.005421</td>\n",
       "      <td>45.315</td>\n",
       "    </tr>\n",
       "    <tr>\n",
       "      <th>2</th>\n",
       "      <td>EU</td>\n",
       "      <td>Europe</td>\n",
       "      <td>ALB</td>\n",
       "      <td>Albania</td>\n",
       "      <td>1993</td>\n",
       "      <td>Male</td>\n",
       "      <td>46</td>\n",
       "      <td>0.477724</td>\n",
       "      <td>3.330938</td>\n",
       "      <td>2.937233</td>\n",
       "      <td>3227287.0</td>\n",
       "      <td>1.185315e+09</td>\n",
       "      <td>367.279225</td>\n",
       "      <td>1.024263e+09</td>\n",
       "      <td>2110.0</td>\n",
       "      <td>85.004751</td>\n",
       "      <td>47.798</td>\n",
       "    </tr>\n",
       "    <tr>\n",
       "      <th>3</th>\n",
       "      <td>EU</td>\n",
       "      <td>Europe</td>\n",
       "      <td>ALB</td>\n",
       "      <td>Albania</td>\n",
       "      <td>1993</td>\n",
       "      <td>Female</td>\n",
       "      <td>27</td>\n",
       "      <td>0.385164</td>\n",
       "      <td>1.755077</td>\n",
       "      <td>1.686025</td>\n",
       "      <td>3227287.0</td>\n",
       "      <td>1.185315e+09</td>\n",
       "      <td>367.279225</td>\n",
       "      <td>1.024263e+09</td>\n",
       "      <td>2110.0</td>\n",
       "      <td>85.004751</td>\n",
       "      <td>47.798</td>\n",
       "    </tr>\n",
       "    <tr>\n",
       "      <th>4</th>\n",
       "      <td>EU</td>\n",
       "      <td>Europe</td>\n",
       "      <td>ALB</td>\n",
       "      <td>Albania</td>\n",
       "      <td>1994</td>\n",
       "      <td>Male</td>\n",
       "      <td>37</td>\n",
       "      <td>0.419406</td>\n",
       "      <td>2.678796</td>\n",
       "      <td>2.332619</td>\n",
       "      <td>3207536.0</td>\n",
       "      <td>1.880951e+09</td>\n",
       "      <td>586.416135</td>\n",
       "      <td>1.216681e+09</td>\n",
       "      <td>2300.0</td>\n",
       "      <td>22.565053</td>\n",
       "      <td>50.086</td>\n",
       "    </tr>\n",
       "  </tbody>\n",
       "</table>\n",
       "</div>"
      ],
      "text/plain": [
       "  RegionCode RegionName CountryCode CountryName  Year     Sex  SuicideCount  \\\n",
       "0         EU     Europe         ALB     Albania  1992    Male            33   \n",
       "1         EU     Europe         ALB     Albania  1992  Female            14   \n",
       "2         EU     Europe         ALB     Albania  1993    Male            46   \n",
       "3         EU     Europe         ALB     Albania  1993  Female            27   \n",
       "4         EU     Europe         ALB     Albania  1994    Male            37   \n",
       "\n",
       "   CauseSpecificDeathPercentage  StdDeathRate  DeathRatePer100K  Population  \\\n",
       "0                      0.331959      2.335802          2.076386   3247039.0   \n",
       "1                      0.191860      0.866420          0.874563   3247039.0   \n",
       "2                      0.477724      3.330938          2.937233   3227287.0   \n",
       "3                      0.385164      1.755077          1.686025   3227287.0   \n",
       "4                      0.419406      2.678796          2.332619   3207536.0   \n",
       "\n",
       "            GDP  GDPPerCapita           GNI  GNIPerCapita  InflationRate  \\\n",
       "0  6.521750e+08    200.852220  9.061842e+08        1740.0     226.005421   \n",
       "1  6.521750e+08    200.852220  9.061842e+08        1740.0     226.005421   \n",
       "2  1.185315e+09    367.279225  1.024263e+09        2110.0      85.004751   \n",
       "3  1.185315e+09    367.279225  1.024263e+09        2110.0      85.004751   \n",
       "4  1.880951e+09    586.416135  1.216681e+09        2300.0      22.565053   \n",
       "\n",
       "   EmploymentPopulationRatio  \n",
       "0                     45.315  \n",
       "1                     45.315  \n",
       "2                     47.798  \n",
       "3                     47.798  \n",
       "4                     50.086  "
      ]
     },
     "execution_count": 3,
     "metadata": {},
     "output_type": "execute_result"
    }
   ],
   "source": [
    "data = pd.read_csv('age_std_suicide_rates_1990-2022.csv')\n",
    "data.head()"
   ]
  },
  {
   "cell_type": "markdown",
   "id": "10c95661",
   "metadata": {},
   "source": [
    "<span style='font-size:xxx-large'>**Data Preparation & Cleaning**</span>"
   ]
  },
  {
   "cell_type": "markdown",
   "id": "442de20e",
   "metadata": {},
   "source": [
    "<span style='font-size:x-large'>**Preliminary Feature Selection**</span>\n",
    "> select relevent variables to find which variable is the best predictor for suicide rate\n",
    "\n",
    "\n"
   ]
  },
  {
   "cell_type": "code",
   "execution_count": 4,
   "id": "74f1adbf",
   "metadata": {},
   "outputs": [
    {
     "name": "stdout",
     "output_type": "stream",
     "text": [
      "The shape of the dataset before cleaning (5928, 9)\n",
      "The shape of the new dataset (4732, 9)\n",
      "===============================\n",
      "<class 'pandas.core.frame.DataFrame'>\n",
      "Index: 4732 entries, 0 to 5371\n",
      "Data columns (total 9 columns):\n",
      " #   Column                     Non-Null Count  Dtype  \n",
      "---  ------                     --------------  -----  \n",
      " 0   RegionCode                 4732 non-null   object \n",
      " 1   Year                       4732 non-null   int64  \n",
      " 2   Sex                        4732 non-null   object \n",
      " 3   StdDeathRate               4732 non-null   float64\n",
      " 4   Population                 4732 non-null   float64\n",
      " 5   GDPPerCapita               4732 non-null   float64\n",
      " 6   GNIPerCapita               4732 non-null   float64\n",
      " 7   InflationRate              4732 non-null   float64\n",
      " 8   EmploymentPopulationRatio  4732 non-null   float64\n",
      "dtypes: float64(6), int64(1), object(2)\n",
      "memory usage: 369.7+ KB\n"
     ]
    }
   ],
   "source": [
    "# Selecting relevant variables for analysis\n",
    "data = data[['RegionCode', 'Year', 'Sex', 'StdDeathRate',  'Population', 'GDPPerCapita',  'GNIPerCapita', 'InflationRate', 'EmploymentPopulationRatio']]\n",
    "print(\"The shape of the dataset before cleaning\", data.shape)\n",
    "data = data.dropna()\n",
    "data.isnull().values.any()\n",
    "print(\"The shape of the new dataset\",data.shape)\n",
    "print(\"===============================\")\n",
    "data.info()"
   ]
  },
  {
   "cell_type": "code",
   "execution_count": 5,
   "id": "04bb49d4",
   "metadata": {},
   "outputs": [],
   "source": [
    "def removeOutliers(dataSet, quantifier):\n",
    "    q1 = dataSet[quantifier].quantile(0.25)\n",
    "    q3 = dataSet[quantifier].quantile(0.75)\n",
    "\n",
    "    IQR = q3 - q1\n",
    "\n",
    "    lower_bound = q1 - 1.5 * IQR\n",
    "    upper_bound= q3 + 1.5 * IQR\n",
    "    cleanedDataset = dataSet[(dataSet[quantifier] >= lower_bound) & (dataSet[quantifier] <= upper_bound)]\n",
    "\n",
    "    return cleanedDataset"
   ]
  },
  {
   "cell_type": "markdown",
   "id": "316ba6a3",
   "metadata": {},
   "source": [
    "`Outliers will be removed during EDA, the suicides vary by countries.`\n"
   ]
  },
  {
   "cell_type": "code",
   "execution_count": 7,
   "id": "bffaaf40",
   "metadata": {},
   "outputs": [],
   "source": [
    "#split data based on gender\n",
    "\n",
    "#EU: Europe, AS: Asia, OA: Oceania, CSA: Central and South America, NAC: North America & Carribbean, AF: Africa\n",
    "regioncode_map = {'EU': 0, 'AS':1, 'OA':2, 'NAC':3, 'CSA':4, 'AF':5}\n",
    "data['RegionCode'] = data['RegionCode'].replace(regioncode_map)\n",
    "data['RegionCode']=data['RegionCode'].astype('category')\n",
    "#data.head()\n",
    "\n",
    "sex_mapping = {'Male': 0, 'Female': 1}\n",
    "data['Sex'] = data['Sex'].replace(sex_mapping)\n",
    "maleData = data[data['Sex']==0]\n",
    "femaleData = data[data['Sex']==1]"
   ]
  },
  {
   "cell_type": "markdown",
   "id": "d020484d",
   "metadata": {},
   "source": [
    "---------------------------------"
   ]
  },
  {
   "cell_type": "code",
   "execution_count": null,
   "id": "3a4d1924",
   "metadata": {},
   "outputs": [],
   "source": []
  }
 ],
 "metadata": {
  "kernelspec": {
   "display_name": "Python 3 (ipykernel)",
   "language": "python",
   "name": "python3"
  },
  "language_info": {
   "codemirror_mode": {
    "name": "ipython",
    "version": 3
   },
   "file_extension": ".py",
   "mimetype": "text/x-python",
   "name": "python",
   "nbconvert_exporter": "python",
   "pygments_lexer": "ipython3",
   "version": "3.11.5"
  }
 },
 "nbformat": 4,
 "nbformat_minor": 5
}
